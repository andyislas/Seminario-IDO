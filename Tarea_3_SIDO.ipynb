{
  "nbformat": 4,
  "nbformat_minor": 0,
  "metadata": {
    "colab": {
      "provenance": [],
      "collapsed_sections": [
        "9zhiAKzqBrmk",
        "G9CJBnAem88G",
        "jGEuR15S26H3"
      ]
    },
    "kernelspec": {
      "name": "python3",
      "display_name": "Python 3"
    },
    "language_info": {
      "name": "python"
    }
  },
  "cells": [
    {
      "cell_type": "markdown",
      "source": [
        "# Tarea 3: Diseño y Programación de GRASP\n",
        "\n",
        "\n",
        "---\n",
        "\n",
        "\n",
        "**Integrantes:**\n",
        "\n",
        "\n",
        "*   Tello Torres Sarahi Lilian\n",
        "*   Islas Orlaineta Andrea\n",
        "*   Vázquez Huesca Naomi\n",
        "*   De la Parra Arias Farid Arath\n",
        "\n",
        "\n",
        "\n",
        "---\n",
        "\n",
        "\n",
        "En esta Tarea 3, abordaremos el diseño y programación de la metaheurística GRASP (Greedy Randomized Adaptive Search Procedure) para resolver el problema de ancho de banda. Esta tarea involucra varios aspectos clave:\n",
        "\n",
        "## 1. Elementos de las Soluciones\n",
        "\n",
        "Debemos definir claramente los elementos que compondrán nuestras soluciones. Esto incluye la estructura y representación de las soluciones en el contexto de nuestro problema.\n",
        "\n",
        "## 2. Cálculo de Costos Miopes\n",
        "\n",
        "Necesitamos identificar una función que calcule los costos miopes asociados con los elementos candidatos. Estos costos miopes son fundamentales en el proceso de construcción de soluciones.\n",
        "\n",
        "## 3. Programación de Métodos Constructivos\n",
        "\n",
        "Vamos a programar cuatro métodos constructivos. Cada método se centrará en la construcción de soluciones iniciales utilizando diferentes estrategias. Es importante considerar la posibilidad de incorporar sesgos cuando sea necesario.\n",
        "\n",
        "## 4. Algoritmo de Búsqueda Local\n",
        "\n",
        "Implementaremos un algoritmo de búsqueda local que explorará las estructuras de entornos previamente definidas. Esto permitirá mejorar la calidad de las soluciones construidas inicialmente.\n",
        "\n",
        "## 5. Implementación de GRASP\n",
        "\n",
        "Llevaremos a cabo la programación de la metaheurística GRASP, que combina la construcción golosa aleatorizada y la búsqueda local para obtener soluciones de alta calidad.\n",
        "\n",
        "## 6. Resolución de Instancias de Prueba\n",
        "\n",
        "Finalmente, resolveremos diversas instancias de prueba mediante GRASP. Variaremos los hiperparámetros, como alpha y max_iter, para evaluar su impacto en la calidad de las soluciones y el tiempo de ejecución.\n",
        "\n",
        "\n"
      ],
      "metadata": {
        "id": "wNOdNwUEAW50"
      }
    },
    {
      "cell_type": "markdown",
      "source": [
        "#  1. Elementos de las Soluciones"
      ],
      "metadata": {
        "id": "JvPzlZOgBh2M"
      }
    },
    {
      "cell_type": "markdown",
      "source": [
        "# **Vértices del grafo**\n",
        "Los elementos que componen las soluciones son los vértices del grafo. Cada vértice representa un elemento individual que debe ser ordenado en una secuencia específica para encontrar un ordenamiento óptimo de los vértices.\n",
        "# **Órden de los vértices**\n",
        "La soluciones consisten en una permutación ordenada de los vértices. Lo cual representa el orden en el los vértices se colocan en una línea.\n",
        "# **Ancho de banda**\n",
        "La solución se evalúa de acuerdo a la cantidad de cruces de aristas que se producen cuando se aplica el ordenamiento."
      ],
      "metadata": {
        "id": "F7wvZBWNBxbG"
      }
    },
    {
      "cell_type": "markdown",
      "source": [
        "# 2. Cálculo de Costos Miopes"
      ],
      "metadata": {
        "id": "gMdJ-0hQBmRs"
      }
    },
    {
      "cell_type": "markdown",
      "source": [
        "\n",
        "\n",
        "1.   Seleccionamos un elemento candidato vértice.\n",
        "2.   Evaluamos el elemento en distintas posiciones como candidato a una solución parcial, lo cual implica calcular el ancho de banda que tiene entre cada posición que itera.\n",
        "3.   En cada posición, se calculan los costos miopes (en este caso el cruce de vértices o ancho de banda). **Lo cual implica comparar los anchos de banda de la solución parcial.**\n",
        "4.   Despues actualizamos la solución parcial con la adición del elemento seleccionado.\n",
        "5.   Se repite el proceso para todos los elementos candidatos disponibles. Se selecciona el elemento que minimiza el costo miope.\n",
        "\n",
        "\n",
        "\n"
      ],
      "metadata": {
        "id": "6voq3YKFByLD"
      }
    },
    {
      "cell_type": "markdown",
      "source": [
        "# 3. Programación de Métodos Constructivos\n",
        "**Construcción**"
      ],
      "metadata": {
        "id": "9zhiAKzqBrmk"
      }
    },
    {
      "cell_type": "code",
      "source": [
        "import random\n",
        "\n",
        "class BandwidthProblem:\n",
        "    def __init__(self, V, E):\n",
        "        self.V = V  # Lista de vértices\n",
        "        self.E = E  # Lista de aristas\n",
        "\n",
        "    def bandwidth(self, x):\n",
        "        \"\"\"Calcula el ancho de banda de una solución parcial x\"\"\"\n",
        "        max_diff = 0\n",
        "        for u, v in self.E:\n",
        "            if u in x and v in x:\n",
        "                max_diff = max(max_diff, abs(x.index(u) - x.index(v)))\n",
        "        return max_diff\n",
        "\n",
        "    def c(self, e, x):\n",
        "        \"\"\"Función de costo miope basada en el ancho de banda de la solución parcial\"\"\"\n",
        "        x_temp = x + [e]\n",
        "        return self.bandwidth(x_temp)\n",
        "\n",
        "    def construccion_c(self, k):\n",
        "        x = []  # Solución inicial vacía\n",
        "        C = self.V.copy()  # Conjunto de candidatos inicializado con todos los vértices de V\n",
        "\n",
        "        while C:\n",
        "            # Ordenar los vértices en C según su costo miope y tomar los primeros k\n",
        "            RCL = sorted(C, key=lambda e: self.c(e, x))[:k]\n",
        "\n",
        "            # Seleccionar aleatoriamente un vértice s de RCL\n",
        "            s = random.choice(RCL)\n",
        "\n",
        "            # Añadir s a la solución x\n",
        "            x.append(s)\n",
        "\n",
        "            # Actualizar el conjunto de candidatos C\n",
        "            C.remove(s)\n",
        "\n",
        "        return x\n",
        "# Ejemplo de uso:\n",
        "V = [1, 2, 3, 4, 5]\n",
        "E = [(1, 2), (2, 3), (3, 4), (4, 5)]\n",
        "k = 2\n",
        "\n",
        "problem = BandwidthProblem(V, E)\n",
        "solucion = problem.construccion_c(k)\n",
        "print(solucion)\n"
      ],
      "metadata": {
        "colab": {
          "base_uri": "https://localhost:8080/"
        },
        "id": "Lz82NOWFdbQk",
        "outputId": "e014f3fa-1987-4bc4-cc2b-65256f09bf6f"
      },
      "execution_count": null,
      "outputs": [
        {
          "output_type": "stream",
          "name": "stdout",
          "text": [
            "[1, 4, 5, 2, 3]\n"
          ]
        }
      ]
    },
    {
      "cell_type": "markdown",
      "source": [
        "**Valor**"
      ],
      "metadata": {
        "id": "8Bi0fhLjmFHm"
      }
    },
    {
      "cell_type": "code",
      "source": [
        "import random\n",
        "\n",
        "class BandwidthProblem1:\n",
        "    def __init__(self, V, E):\n",
        "        self.V = V  # Lista de vértices\n",
        "        self.E = E  # Lista de aristas\n",
        "\n",
        "    def bandwidth(self, x):\n",
        "        \"\"\"Calcula el ancho de banda de una solución parcial x\"\"\"\n",
        "        max_diff = 0\n",
        "        for u, v in self.E:\n",
        "            if u in x and v in x:\n",
        "                max_diff = max(max_diff, abs(x.index(u) - x.index(v)))\n",
        "        return max_diff\n",
        "\n",
        "    def c(self, e, x):\n",
        "        \"\"\"Función de costo miope basada en el ancho de banda de la solución parcial\"\"\"\n",
        "        x_temp = x + [e]\n",
        "        return self.bandwidth(x_temp)\n",
        "\n",
        "    def greedy_randomized_construction(self, alpha):\n",
        "        ordering = []\n",
        "\n",
        "        while len(ordering) < len(self.V):\n",
        "            remaining = list(set(self.V) - set(ordering))\n",
        "            costs = {v: self.c(v, ordering) for v in remaining}\n",
        "\n",
        "            min_cost = min(costs.values())\n",
        "            RCL = [v for v, cost in costs.items() if cost <= min_cost + alpha * (cost - min_cost)]\n",
        "\n",
        "            selected_vertex = random.choice(RCL)\n",
        "            ordering.append(selected_vertex)\n",
        "\n",
        "        return ordering\n",
        "\n",
        "# Ejemplo de uso:\n",
        "V = [1, 2, 3, 4, 5]\n",
        "E = [(1, 2), (2, 3), (3, 4), (4, 5)]\n",
        "k = 0\n",
        "\n",
        "problem = BandwidthProblem1(V, E)\n",
        "solucion = problem.greedy_randomized_construction(k)\n",
        "print(solucion)\n"
      ],
      "metadata": {
        "colab": {
          "base_uri": "https://localhost:8080/"
        },
        "id": "df6tF0nsduDy",
        "outputId": "17025360-8780-49ce-efc8-dfcc2aefb560"
      },
      "execution_count": null,
      "outputs": [
        {
          "output_type": "stream",
          "name": "stdout",
          "text": [
            "[1, 4, 3, 5, 2]\n"
          ]
        }
      ]
    },
    {
      "cell_type": "markdown",
      "source": [
        "**Aleatorio**"
      ],
      "metadata": {
        "id": "lvCnC8_ldugK"
      }
    },
    {
      "cell_type": "code",
      "source": [
        "import random\n",
        "\n",
        "class BandwidthProblem2:\n",
        "    def __init__(self, V, E):\n",
        "        self.V = V  # Lista de vértices\n",
        "        self.E = E  # Lista de aristas\n",
        "\n",
        "    def bandwidth(self, x):\n",
        "        \"\"\"Calcula el ancho de banda de una solución parcial x\"\"\"\n",
        "        max_diff = 0\n",
        "        for u, v in self.E:\n",
        "            if u in x and v in x:\n",
        "                max_diff = max(max_diff, abs(x.index(u) - x.index(v)))\n",
        "        return max_diff\n",
        "\n",
        "    def c(self, e, x):\n",
        "        \"\"\"Función de costo miope basada en el ancho de banda de la solución parcial\"\"\"\n",
        "        x_temp = x + [e]\n",
        "        return self.bandwidth(x_temp)\n",
        "\n",
        "    def construccion_RG(self, k):\n",
        "        x = []  # Solución inicial vacía\n",
        "        C = self.V.copy()  # Conjunto de candidatos inicializado con todos los vértices de V\n",
        "\n",
        "        # Primera parte: Seleccionar aleatoriamente k elementos\n",
        "        for _ in range(k):\n",
        "            if C:\n",
        "                e = random.choice(C)\n",
        "                x.append(e)\n",
        "                C.remove(e)\n",
        "\n",
        "        # Segunda parte: Selección basada en el costo miope\n",
        "        while C:\n",
        "            # Encuentra el elemento con el mínimo costo miope\n",
        "            e_star = min(C, key=lambda e: self.c(e, x))\n",
        "\n",
        "            x.append(e_star)\n",
        "            C.remove(e_star)\n",
        "\n",
        "        return x\n",
        "\n",
        "# Ejemplo de uso:\n",
        "V = [1, 2, 3, 4, 5]\n",
        "E = [(1, 2), (2, 3), (3, 4), (4, 5)]\n",
        "k = 0\n",
        "\n",
        "problem = BandwidthProblem2(V, E)\n",
        "solucion = problem.construccion_RG(k)\n",
        "print(solucion)\n"
      ],
      "metadata": {
        "colab": {
          "base_uri": "https://localhost:8080/"
        },
        "id": "6FawtegAhRWp",
        "outputId": "1656913b-ca4d-4d3b-b158-0a37a65dcd09"
      },
      "execution_count": null,
      "outputs": [
        {
          "output_type": "stream",
          "name": "stdout",
          "text": [
            "[1, 3, 5, 4, 2]\n"
          ]
        }
      ]
    },
    {
      "cell_type": "markdown",
      "source": [
        "**Perturbaciones**"
      ],
      "metadata": {
        "id": "D90pKwrbnb-x"
      }
    },
    {
      "cell_type": "code",
      "source": [
        "import random\n",
        "\n",
        "class BandwidthProblem3:\n",
        "    def __init__(self, V, E):\n",
        "        self.V = V  # Lista de vértices\n",
        "        self.E = E  # Lista de aristas\n",
        "\n",
        "    def bandwidth(self, x):\n",
        "        \"\"\"Calcula el ancho de banda de una solución parcial x\"\"\"\n",
        "        max_diff = 0\n",
        "        for u, v in self.E:\n",
        "            if u in x and v in x:\n",
        "                max_diff = max(max_diff, abs(x.index(u) - x.index(v)))\n",
        "        return max_diff\n",
        "\n",
        "    def c(self, e, x):\n",
        "        \"\"\"Función de costo miope basada en el ancho de banda de la solución parcial\"\"\"\n",
        "        x_temp = x + [e]\n",
        "        return self.bandwidth(x_temp)\n",
        "    def perturbar(self):\n",
        "        \"\"\"Perturba aleatoriamente los datos del problema (en este caso, reordenando los vértices)\"\"\"\n",
        "        random.shuffle(self.V)\n",
        "\n",
        "    def c_perturbado(self, e, x):\n",
        "        \"\"\"Función de costo miope perturbado (usamos la misma función c ya que la perturbación se aplica a V)\"\"\"\n",
        "        return self.c(e, x)\n",
        "\n",
        "    def construccion_PG(self):\n",
        "        x = []  # Solución inicial vacía\n",
        "        C = self.V.copy()  # Conjunto de candidatos inicializado con todos los vértices de V\n",
        "\n",
        "        # Perturbación de los datos\n",
        "        self.perturbar()\n",
        "\n",
        "        # Construcción basada en el costo miope perturbado\n",
        "        while C:\n",
        "            # Encuentra el elemento con el mínimo costo miope perturbado\n",
        "            e_star = min(C, key=lambda e: self.c_perturbado(e, x))\n",
        "\n",
        "            x.append(e_star)\n",
        "            C.remove(e_star)\n",
        "\n",
        "        return x\n",
        "# Ejemplo de uso:\n",
        "V = [1, 2, 3, 4, 5]\n",
        "E = [(1, 2), (2, 3), (3, 4), (4, 5)]\n",
        "\n",
        "\n",
        "problem = BandwidthProblem3(V, E)\n",
        "solucion = problem.construccion_PG()\n",
        "print(solucion)"
      ],
      "metadata": {
        "colab": {
          "base_uri": "https://localhost:8080/"
        },
        "id": "HN9toQFgjyVy",
        "outputId": "bc42c301-2847-49ee-f681-bebbc00a8524"
      },
      "execution_count": null,
      "outputs": [
        {
          "output_type": "stream",
          "name": "stdout",
          "text": [
            "[1, 3, 5, 4, 2]\n"
          ]
        }
      ]
    },
    {
      "cell_type": "markdown",
      "source": [
        "# 4. Algoritmo de Búsqueda Local\n",
        "**Construcción**"
      ],
      "metadata": {
        "id": "G9CJBnAem88G"
      }
    },
    {
      "cell_type": "code",
      "source": [
        "import random\n",
        "\n",
        "class BandwidthProblem:\n",
        "    def __init__(self, V, E):\n",
        "        self.V = V  # Lista de vértices\n",
        "        self.E = E  # Lista de aristas\n",
        "\n",
        "    def bandwidth(self, x):\n",
        "        \"\"\"Calcula el ancho de banda de una solución parcial x\"\"\"\n",
        "        max_diff = 0\n",
        "        for u, v in self.E:\n",
        "            if u in x and v in x:\n",
        "                max_diff = max(max_diff, abs(x.index(u) - x.index(v)))\n",
        "        return max_diff\n",
        "\n",
        "    def c(self, e, x):\n",
        "        \"\"\"Función de costo miope basada en el ancho de banda de la solución parcial\"\"\"\n",
        "        x_temp = x + [e]\n",
        "        return self.bandwidth(x_temp)\n",
        "\n",
        "    def construccion_c(self, k):\n",
        "        x = []  # Solución inicial vacía\n",
        "        C = self.V.copy()  # Conjunto de candidatos inicializado con todos los vértices de V\n",
        "\n",
        "        while C:\n",
        "            # Ordenar los vértices en C según su costo miope y tomar los primeros k\n",
        "            RCL = sorted(C, key=lambda e: self.c(e, x))[:k]\n",
        "\n",
        "            # Seleccionar aleatoriamente un vértice s de RCL\n",
        "            s = random.choice(RCL)\n",
        "\n",
        "            # Añadir s a la solución x\n",
        "            x.append(s)\n",
        "\n",
        "            # Actualizar el conjunto de candidatos C\n",
        "            C.remove(s)\n",
        "\n",
        "        return x\n",
        "\n",
        "    def f(self, x):\n",
        "        \"\"\"Función objetivo: en este caso, es el ancho de banda de una solución.\"\"\"\n",
        "        return self.bandwidth(x)\n",
        "\n",
        "    def N(self, x):\n",
        "        \"\"\"Vecindario de una solución: todas las soluciones obtenidas intercambiando dos elementos en x.\"\"\"\n",
        "        vecindario = []\n",
        "        n = len(x)\n",
        "        for i in range(n):\n",
        "            for j in range(i+1, n):\n",
        "                x_copia = x.copy()\n",
        "                x_copia[i], x_copia[j] = x_copia[j], x_copia[i]\n",
        "                vecindario.append(x_copia)\n",
        "        return vecindario\n",
        "\n",
        "    def busquedaLocal(self, x0):\n",
        "        x = x0.copy()\n",
        "\n",
        "        mejora = True\n",
        "        while mejora:\n",
        "            mejora = False\n",
        "            for y in self.N(x):\n",
        "                if self.f(y) < self.f(x):\n",
        "                    x = y\n",
        "                    mejora = True\n",
        "                    break\n",
        "\n",
        "        return x\n"
      ],
      "metadata": {
        "id": "vuxY9Yz9kzVs"
      },
      "execution_count": null,
      "outputs": []
    },
    {
      "cell_type": "markdown",
      "source": [
        "**Valor**"
      ],
      "metadata": {
        "id": "jKrBikaWn3ta"
      }
    },
    {
      "cell_type": "code",
      "source": [
        "import random\n",
        "\n",
        "class BandwidthProblem1:\n",
        "    def __init__(self, V, E):\n",
        "        self.V = V  # Lista de vértices\n",
        "        self.E = E  # Lista de aristas\n",
        "\n",
        "    def bandwidth(self, x):\n",
        "        \"\"\"Calcula el ancho de banda de una solución parcial x\"\"\"\n",
        "        max_diff = 0\n",
        "        for u, v in self.E:\n",
        "            if u in x and v in x:\n",
        "                max_diff = max(max_diff, abs(x.index(u) - x.index(v)))\n",
        "        return max_diff\n",
        "\n",
        "    def c(self, e, x):\n",
        "        \"\"\"Función de costo miope basada en el ancho de banda de la solución parcial\"\"\"\n",
        "        x_temp = x + [e]\n",
        "        return self.bandwidth(x_temp)\n",
        "\n",
        "    def greedy_randomized_construction(self, alpha):\n",
        "        x= []\n",
        "\n",
        "        while len(x) < len(self.V):\n",
        "            remaining = list(set(self.V) - set(x))\n",
        "            costs = {v: self.c(v, x) for v in remaining}\n",
        "\n",
        "            min_cost = min(costs.values())\n",
        "            RCL = [v for v, cost in costs.items() if cost <= min_cost + alpha * (cost - min_cost)]\n",
        "\n",
        "            selected_vertex = random.choice(RCL)\n",
        "            x.append(selected_vertex)\n",
        "\n",
        "        return x\n",
        "\n",
        "    def f(self, x):\n",
        "        \"\"\"Función objetivo: en este caso, es el ancho de banda de una solución.\"\"\"\n",
        "        return self.bandwidth(x)\n",
        "\n",
        "    def N(self, x):\n",
        "        \"\"\"Vecindario de una solución: todas las soluciones obtenidas intercambiando dos elementos en x.\"\"\"\n",
        "        vecindario = []\n",
        "        n = len(x)\n",
        "        for i in range(n):\n",
        "            for j in range(i+1, n):\n",
        "                x_copia = x.copy()\n",
        "                x_copia[i], x_copia[j] = x_copia[j], x_copia[i]\n",
        "                vecindario.append(x_copia)\n",
        "        return vecindario\n",
        "\n",
        "    def busquedaLocal(self, x0):\n",
        "        x = x0.copy()\n",
        "\n",
        "        mejora = True\n",
        "        while mejora:\n",
        "            mejora = False\n",
        "            for y in self.N(x):\n",
        "                if self.f(y) < self.f(x):\n",
        "                    x = y\n",
        "                    mejora = True\n",
        "                    break\n",
        "\n",
        "        return x"
      ],
      "metadata": {
        "id": "fhwh6wUhmPjn"
      },
      "execution_count": null,
      "outputs": []
    },
    {
      "cell_type": "markdown",
      "source": [
        "**Aleatorio**"
      ],
      "metadata": {
        "id": "0Qc_JUdDn5MR"
      }
    },
    {
      "cell_type": "code",
      "source": [
        "import random\n",
        "\n",
        "class BandwidthProblem2:\n",
        "    def __init__(self, V, E):\n",
        "        self.V = V  # Lista de vértices\n",
        "        self.E = E  # Lista de aristas\n",
        "\n",
        "    def bandwidth(self, x):\n",
        "        \"\"\"Calcula el ancho de banda de una solución parcial x\"\"\"\n",
        "        max_diff = 0\n",
        "        for u, v in self.E:\n",
        "            if u in x and v in x:\n",
        "                max_diff = max(max_diff, abs(x.index(u) - x.index(v)))\n",
        "        return max_diff\n",
        "\n",
        "    def c(self, e, x):\n",
        "        \"\"\"Función de costo miope basada en el ancho de banda de la solución parcial\"\"\"\n",
        "        x_temp = x + [e]\n",
        "        return self.bandwidth(x_temp)\n",
        "\n",
        "    def construccion_RG(self, k):\n",
        "        x = []  # Solución inicial vacía\n",
        "        C = self.V.copy()  # Conjunto de candidatos inicializado con todos los vértices de V\n",
        "\n",
        "        # Primera parte: Seleccionar aleatoriamente k elementos\n",
        "        for _ in range(k):\n",
        "            if C:\n",
        "                e = random.choice(C)\n",
        "                x.append(e)\n",
        "                C.remove(e)\n",
        "\n",
        "        # Segunda parte: Selección basada en el costo miope\n",
        "        while C:\n",
        "            # Encuentra el elemento con el mínimo costo miope\n",
        "            e_star = min(C, key=lambda e: self.c(e, x))\n",
        "\n",
        "            x.append(e_star)\n",
        "            C.remove(e_star)\n",
        "\n",
        "        return x\n",
        "\n",
        "    def f(self, x):\n",
        "        \"\"\"Función objetivo: en este caso, es el ancho de banda de una solución.\"\"\"\n",
        "        return self.bandwidth(x)\n",
        "\n",
        "    def N(self, x):\n",
        "        \"\"\"Vecindario de una solución: todas las soluciones obtenidas intercambiando dos elementos en x.\"\"\"\n",
        "        vecindario = []\n",
        "        n = len(x)\n",
        "        for i in range(n):\n",
        "            for j in range(i+1, n):\n",
        "                x_copia = x.copy()\n",
        "                x_copia[i], x_copia[j] = x_copia[j], x_copia[i]\n",
        "                vecindario.append(x_copia)\n",
        "        return vecindario\n",
        "\n",
        "    def busquedaLocal(self, x0):\n",
        "        x = x0.copy()\n",
        "\n",
        "        mejora = True\n",
        "        while mejora:\n",
        "            mejora = False\n",
        "            for y in self.N(x):\n",
        "                if self.f(y) < self.f(x):\n",
        "                    x = y\n",
        "                    mejora = True\n",
        "                    break\n",
        "\n",
        "        return x\n"
      ],
      "metadata": {
        "id": "RjahiT9fnAM5"
      },
      "execution_count": null,
      "outputs": []
    },
    {
      "cell_type": "markdown",
      "source": [
        "**Perturbaciones**"
      ],
      "metadata": {
        "id": "-sLbG2j5n7Qh"
      }
    },
    {
      "cell_type": "code",
      "source": [
        "import random\n",
        "\n",
        "class BandwidthProblem3:\n",
        "    def __init__(self, V, E):\n",
        "        self.V = V  # Lista de vértices\n",
        "        self.E = E  # Lista de aristas\n",
        "\n",
        "    def bandwidth(self, x):\n",
        "        \"\"\"Calcula el ancho de banda de una solución parcial x\"\"\"\n",
        "        max_diff = 0\n",
        "        for u, v in self.E:\n",
        "            if u in x and v in x:\n",
        "                max_diff = max(max_diff, abs(x.index(u) - x.index(v)))\n",
        "        return max_diff\n",
        "\n",
        "    def c(self, e, x):\n",
        "        \"\"\"Función de costo miope basada en el ancho de banda de la solución parcial\"\"\"\n",
        "        x_temp = x + [e]\n",
        "        return self.bandwidth(x_temp)\n",
        "\n",
        "    def perturbar(self):\n",
        "        \"\"\"Perturba aleatoriamente los datos del problema (en este caso, reordenando los vértices)\"\"\"\n",
        "        random.shuffle(self.V)\n",
        "\n",
        "    def c_perturbado(self, e, x):\n",
        "        \"\"\"Función de costo miope perturbado (usamos la misma función c ya que la perturbación se aplica a V)\"\"\"\n",
        "        return self.c(e, x)\n",
        "\n",
        "    def construccion_PG(self):\n",
        "        x = []  # Solución inicial vacía\n",
        "        C = self.V.copy()  # Conjunto de candidatos inicializado con todos los vértices de V\n",
        "\n",
        "        # Perturbación de los datos\n",
        "        self.perturbar()\n",
        "\n",
        "        # Construcción basada en el costo miope perturbado\n",
        "        while C:\n",
        "            # Encuentra el elemento con el mínimo costo miope perturbado\n",
        "            e_star = min(C, key=lambda e: self.c_perturbado(e, x))\n",
        "\n",
        "            x.append(e_star)\n",
        "            C.remove(e_star)\n",
        "\n",
        "        return x\n",
        "\n",
        "\n",
        "    def f(self, x):\n",
        "        \"\"\"Función objetivo: en este caso, es el ancho de banda de una solución.\"\"\"\n",
        "        return self.bandwidth(x)\n",
        "\n",
        "    def N(self, x):\n",
        "        \"\"\"Vecindario de una solución: todas las soluciones obtenidas intercambiando dos elementos en x.\"\"\"\n",
        "        vecindario = []\n",
        "        n = len(x)\n",
        "        for i in range(n):\n",
        "            for j in range(i+1, n):\n",
        "                x_copia = x.copy()\n",
        "                x_copia[i], x_copia[j] = x_copia[j], x_copia[i]\n",
        "                vecindario.append(x_copia)\n",
        "        return vecindario\n",
        "\n",
        "    def busquedaLocal(self, x0):\n",
        "        x = x0.copy()\n",
        "\n",
        "        mejora = True\n",
        "        while mejora:\n",
        "            mejora = False\n",
        "            for y in self.N(x):\n",
        "                if self.f(y) < self.f(x):\n",
        "                    x = y\n",
        "                    mejora = True\n",
        "                    break\n",
        "\n",
        "        return x"
      ],
      "metadata": {
        "id": "jdil9sBXnXYe"
      },
      "execution_count": null,
      "outputs": []
    },
    {
      "cell_type": "markdown",
      "source": [
        "# 5. Implementación de GRASP"
      ],
      "metadata": {
        "id": "jGEuR15S26H3"
      }
    },
    {
      "cell_type": "code",
      "source": [
        "import random\n",
        "\n",
        "class BandwidthProblemGRASP:\n",
        "    def __init__(self, V, E, alpha, max_iter):\n",
        "        self.V = V  # Lista de vértices\n",
        "        self.E = E  # Lista de aristas\n",
        "        self.alpha = alpha  # Parámetro alpha para la construcción GRASP\n",
        "        self.max_iter = max_iter\n",
        "\n",
        "    def bandwidth(self, x):\n",
        "        \"\"\"Calcula el ancho de banda de una solución x\"\"\"\n",
        "        max_diff = 0\n",
        "        for u, v in self.E:\n",
        "            if u in x and v in x:\n",
        "                max_diff = max(max_diff, abs(x.index(u) - x.index(v)))\n",
        "        return max_diff\n",
        "\n",
        "    def c(self, e, x):\n",
        "        \"\"\"Función de costo miope basada en el ancho de banda de la solución parcial\"\"\"\n",
        "        x_temp = x + [e]\n",
        "        return self.bandwidth(x_temp)\n",
        "\n",
        "    def greedy_randomized_construction(self):\n",
        "        x = []\n",
        "        C = self.V.copy()  # Conjunto de candidatos inicializado con todos los vértices de V\n",
        "\n",
        "        while C:\n",
        "            remaining = len(C)\n",
        "            RCL_size = max(1, int(remaining * self.alpha))\n",
        "            RCL = random.sample(C, RCL_size)\n",
        "\n",
        "            s = min(RCL, key=lambda e: self.c(e, x))\n",
        "            x.append(s)\n",
        "            C.remove(s)\n",
        "\n",
        "        return x\n",
        "\n",
        "    def local_search(self, x0):\n",
        "        x = x0.copy()\n",
        "        improvement = True\n",
        "\n",
        "        while improvement:\n",
        "            improvement = False\n",
        "            for i in range(len(x)):\n",
        "                for j in range(i + 1, len(x)):\n",
        "                    x_copy = x[:]\n",
        "                    x_copy[i], x_copy[j] = x_copy[j], x_copy[i]\n",
        "                    if self.bandwidth(x_copy) < self.bandwidth(x):\n",
        "                        x = x_copy\n",
        "                        improvement = True\n",
        "\n",
        "        return x\n",
        "\n",
        "    def grasp(self):\n",
        "        best_solution = None\n",
        "        best_bandwidth = float('inf')\n",
        "\n",
        "        for _ in range(self.max_iter):\n",
        "            initial_solution = self.greedy_randomized_construction()\n",
        "            local_optimum = self.local_search(initial_solution)\n",
        "            local_bandwidth = self.bandwidth(local_optimum)\n",
        "\n",
        "            if local_bandwidth < best_bandwidth:\n",
        "                best_solution = local_optimum\n",
        "                best_bandwidth = local_bandwidth\n",
        "\n",
        "        return best_solution, best_bandwidth\n",
        "\n",
        "# Ejemplo de uso:\n",
        "V = [1, 2, 3, 4, 5]\n",
        "E = [(1, 2), (2, 3), (3, 4), (4, 5)]\n",
        "alpha = 0.1\n",
        "max_iter = 100\n",
        "\n",
        "grasp = BandwidthProblemGRASP(V, E, alpha, max_iter)\n",
        "best_solution, best_bandwidth = grasp.grasp()\n",
        "print(\"Mejor solución:\", best_solution)\n",
        "print(\"Ancho de banda:\", best_bandwidth)\n"
      ],
      "metadata": {
        "colab": {
          "base_uri": "https://localhost:8080/"
        },
        "id": "Cl554M9F6Wye",
        "outputId": "dcae8bc7-00b7-4a36-af17-95ccc6a1b585"
      },
      "execution_count": null,
      "outputs": [
        {
          "output_type": "stream",
          "name": "stdout",
          "text": [
            "Mejor solución: [5, 4, 3, 2, 1]\n",
            "Ancho de banda: 1\n"
          ]
        }
      ]
    },
    {
      "cell_type": "markdown",
      "source": [
        "# 6. Resolución de Instancias de Prueba\n",
        "\n"
      ],
      "metadata": {
        "id": "WSqi51IJ7fsO"
      }
    },
    {
      "cell_type": "code",
      "source": [
        "# Hiperparámetros a probar\n",
        "alphas = [0.1, 0.2, 0.3, 0.4, 0.5 ]  # Valores de alpha a probar\n",
        "max_iters = [50, 100, 200, 300, 400]  # Valores de max_iter a probar\n",
        "\n",
        "for alpha in alphas:\n",
        "    for max_iter in max_iters:\n",
        "        print(f\"Probando con alpha={alpha} y max_iter={max_iter}\")\n",
        "\n",
        "        # Genera una instancia de prueba\n",
        "        num_vertices = 10  # Número de vértices\n",
        "        density = 0.3  # Densidad de aristas\n",
        "        max_bandwidth = 9  # Ancho de banda máximo\n",
        "        V, E = generate_bandwidth_instance(num_vertices, density, max_bandwidth)\n",
        "\n",
        "        # Ajusta la estructura de E para coincidir con el código\n",
        "        E = [(u, v) for u, v, _ in E]\n",
        "\n",
        "        # Ejecuta GRASP con los hiperparámetros actuales\n",
        "        grasp = BandwidthProblemGRASP(V, E, alpha, max_iter)\n",
        "        best_solution, best_bandwidth = grasp.grasp()\n",
        "\n",
        "        # Imprime los resultados\n",
        "        print(\"Mejor solución:\", best_solution)\n",
        "        print(\"Ancho de banda:\", best_bandwidth)\n",
        "        print(\"-\" * 50)\n",
        "\n"
      ],
      "metadata": {
        "colab": {
          "base_uri": "https://localhost:8080/"
        },
        "id": "HBXrUFu778c0",
        "outputId": "9edf9094-2d22-4bb0-8911-d113ec58f63a"
      },
      "execution_count": null,
      "outputs": [
        {
          "output_type": "stream",
          "name": "stdout",
          "text": [
            "Probando con alpha=0.1 y max_iter=50\n",
            "Mejor solución: [2, 7, 1, 8, 5, 6, 9, 10, 3, 4]\n",
            "Ancho de banda: 3\n",
            "--------------------------------------------------\n",
            "Probando con alpha=0.1 y max_iter=100\n",
            "Mejor solución: [7, 3, 8, 5, 6, 9, 4, 10, 2, 1]\n",
            "Ancho de banda: 4\n",
            "--------------------------------------------------\n",
            "Probando con alpha=0.1 y max_iter=200\n",
            "Mejor solución: [1, 4, 10, 9, 3, 7, 2, 5, 6, 8]\n",
            "Ancho de banda: 2\n",
            "--------------------------------------------------\n",
            "Probando con alpha=0.1 y max_iter=300\n",
            "Mejor solución: [3, 4, 10, 9, 6, 5, 7, 1, 8, 2]\n",
            "Ancho de banda: 4\n",
            "--------------------------------------------------\n",
            "Probando con alpha=0.1 y max_iter=400\n",
            "Mejor solución: [3, 9, 10, 7, 5, 4, 1, 8, 6, 2]\n",
            "Ancho de banda: 4\n",
            "--------------------------------------------------\n",
            "Probando con alpha=0.2 y max_iter=50\n",
            "Mejor solución: [7, 2, 8, 6, 4, 5, 1, 9, 10, 3]\n",
            "Ancho de banda: 5\n",
            "--------------------------------------------------\n",
            "Probando con alpha=0.2 y max_iter=100\n",
            "Mejor solución: [7, 4, 8, 6, 2, 5, 3, 1, 10, 9]\n",
            "Ancho de banda: 4\n",
            "--------------------------------------------------\n",
            "Probando con alpha=0.2 y max_iter=200\n",
            "Mejor solución: [5, 6, 7, 10, 4, 2, 9, 1, 3, 8]\n",
            "Ancho de banda: 5\n",
            "--------------------------------------------------\n",
            "Probando con alpha=0.2 y max_iter=300\n",
            "Mejor solución: [5, 4, 7, 8, 2, 10, 1, 6, 3, 9]\n",
            "Ancho de banda: 4\n",
            "--------------------------------------------------\n",
            "Probando con alpha=0.2 y max_iter=400\n",
            "Mejor solución: [2, 6, 1, 5, 4, 10, 7, 8, 3, 9]\n",
            "Ancho de banda: 3\n",
            "--------------------------------------------------\n",
            "Probando con alpha=0.3 y max_iter=50\n",
            "Mejor solución: [1, 10, 7, 4, 2, 9, 8, 6, 3, 5]\n",
            "Ancho de banda: 3\n",
            "--------------------------------------------------\n",
            "Probando con alpha=0.3 y max_iter=100\n",
            "Mejor solución: [5, 1, 6, 9, 10, 7, 3, 8, 4, 2]\n",
            "Ancho de banda: 3\n",
            "--------------------------------------------------\n",
            "Probando con alpha=0.3 y max_iter=200\n",
            "Mejor solución: [4, 1, 3, 10, 9, 7, 5, 2, 6, 8]\n",
            "Ancho de banda: 3\n",
            "--------------------------------------------------\n",
            "Probando con alpha=0.3 y max_iter=300\n",
            "Mejor solución: [7, 2, 1, 6, 5, 8, 3, 4, 10, 9]\n",
            "Ancho de banda: 4\n",
            "--------------------------------------------------\n",
            "Probando con alpha=0.3 y max_iter=400\n",
            "Mejor solución: [9, 7, 3, 8, 2, 4, 5, 10, 1, 6]\n",
            "Ancho de banda: 3\n",
            "--------------------------------------------------\n",
            "Probando con alpha=0.4 y max_iter=50\n",
            "Mejor solución: [6, 7, 4, 10, 3, 5, 2, 1, 9, 8]\n",
            "Ancho de banda: 4\n",
            "--------------------------------------------------\n",
            "Probando con alpha=0.4 y max_iter=100\n",
            "Mejor solución: [8, 9, 1, 6, 3, 7, 2, 4, 5, 10]\n",
            "Ancho de banda: 4\n",
            "--------------------------------------------------\n",
            "Probando con alpha=0.4 y max_iter=200\n",
            "Mejor solución: [4, 5, 8, 6, 2, 3, 9, 7, 1, 10]\n",
            "Ancho de banda: 3\n",
            "--------------------------------------------------\n",
            "Probando con alpha=0.4 y max_iter=300\n",
            "Mejor solución: [1, 8, 3, 6, 2, 10, 5, 7, 9, 4]\n",
            "Ancho de banda: 3\n",
            "--------------------------------------------------\n",
            "Probando con alpha=0.4 y max_iter=400\n",
            "Mejor solución: [9, 4, 1, 7, 3, 6, 10, 8, 5, 2]\n",
            "Ancho de banda: 3\n",
            "--------------------------------------------------\n",
            "Probando con alpha=0.5 y max_iter=50\n",
            "Mejor solución: [8, 3, 1, 2, 5, 6, 4, 9, 7, 10]\n",
            "Ancho de banda: 2\n",
            "--------------------------------------------------\n",
            "Probando con alpha=0.5 y max_iter=100\n",
            "Mejor solución: [4, 7, 2, 9, 6, 1, 10, 5, 3, 8]\n",
            "Ancho de banda: 4\n",
            "--------------------------------------------------\n",
            "Probando con alpha=0.5 y max_iter=200\n",
            "Mejor solución: [5, 2, 6, 8, 4, 7, 10, 3, 1, 9]\n",
            "Ancho de banda: 3\n",
            "--------------------------------------------------\n",
            "Probando con alpha=0.5 y max_iter=300\n",
            "Mejor solución: [7, 1, 2, 3, 4, 10, 6, 8, 9, 5]\n",
            "Ancho de banda: 4\n",
            "--------------------------------------------------\n",
            "Probando con alpha=0.5 y max_iter=400\n",
            "Mejor solución: [5, 9, 10, 7, 3, 6, 4, 2, 8, 1]\n",
            "Ancho de banda: 3\n",
            "--------------------------------------------------\n"
          ]
        }
      ]
    },
    {
      "cell_type": "markdown",
      "source": [
        "## Observaciones sobre la Optimización de Hiperparámetros con GRASP\n",
        "\n",
        "Al ejecutar el algoritmo GRASP con diferentes configuraciones de hiperparámetros en el problema del ancho de banda, se han realizado las siguientes observaciones:\n",
        "\n",
        "1. **Mejora en la calidad de la solución:** A medida que se incrementa el valor de `max_iter`, se observa una mejora en la calidad de la solución (ancho de banda). Esto es esperado, ya que más iteraciones permiten explorar más soluciones. Por ejemplo, se ha notado que \"Probando con alpha=0.3 y max_iter=200\" produce un ancho de banda más alto que \"Probando con alpha=0.3 y max_iter=50\".\n",
        "\n",
        "2. **Efecto de `alpha`:** Diferentes valores de `alpha` afectan la calidad de la solución. Se ha observado que un valor más alto de `alpha` tiende a resultar en soluciones de mejor calidad. Sin embargo, esto puede requerir más tiempo de ejecución.\n",
        "\n",
        "3. **Tiempo de ejecución:** Es importante tener en cuenta el tiempo de ejecución. Configuraciones con un valor alto de `max_iter` pueden llevar a tiempos de ejecución excesivos, lo que puede no ser práctico en situaciones de la vida real.\n",
        "\n",
        "Estas observaciones indican que es fundamental encontrar un equilibrio entre obtener soluciones de alta calidad y mantener un tiempo de ejecución razonable. La elección de la configuración de hiperparámetros dependerá de las necesidades y restricciones específicas del problema.\n",
        "\n"
      ],
      "metadata": {
        "id": "wy8viXc0_Et1"
      }
    }
  ]
}